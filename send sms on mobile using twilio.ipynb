{
 "cells": [
  {
   "cell_type": "code",
   "execution_count": 1,
   "id": "3ad788fa",
   "metadata": {},
   "outputs": [
    {
     "name": "stdout",
     "output_type": "stream",
     "text": [
      "SMS sent successfully!\n"
     ]
    }
   ],
   "source": [
    "from twilio.rest import Client\n",
    "\n",
    "# Replace these with your actual Account SID and Auth Token from Twilio\n",
    "account_sid = \"AC3d7949d83ad3d68634b8a849da0f684a\"\n",
    "auth_token = \"f47e066e357380c795a7dabbd6379792\"\n",
    "\n",
    "# Replace these with your Twilio phone number and the destination phone number\n",
    "twilio_phone_number = \"+13186977190\"\n",
    "destination_phone_number = \"+918824510564\"\n",
    "\n",
    "# Create a Twilio client\n",
    "client = Client(account_sid, auth_token)\n",
    "\n",
    "# Send the SMS message\n",
    "message = client.messages.create(\n",
    "    body=\"Hello from Twilio! This is a test SMS.\",\n",
    "    from_=twilio_phone_number,\n",
    "    to=destination_phone_number\n",
    ")\n",
    "\n",
    "print(\"SMS sent successfully!\")"
   ]
  },
  {
   "cell_type": "code",
   "execution_count": null,
   "id": "aefc820d",
   "metadata": {},
   "outputs": [],
   "source": []
  },
  {
   "cell_type": "code",
   "execution_count": null,
   "id": "8ace09f0",
   "metadata": {},
   "outputs": [],
   "source": []
  }
 ],
 "metadata": {
  "kernelspec": {
   "display_name": "Python 3 (ipykernel)",
   "language": "python",
   "name": "python3"
  },
  "language_info": {
   "codemirror_mode": {
    "name": "ipython",
    "version": 3
   },
   "file_extension": ".py",
   "mimetype": "text/x-python",
   "name": "python",
   "nbconvert_exporter": "python",
   "pygments_lexer": "ipython3",
   "version": "3.11.3"
  }
 },
 "nbformat": 4,
 "nbformat_minor": 5
}
