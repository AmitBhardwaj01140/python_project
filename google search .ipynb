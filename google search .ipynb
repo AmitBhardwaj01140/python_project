{
 "cells": [
  {
   "cell_type": "code",
   "execution_count": 5,
   "id": "86b29a36",
   "metadata": {},
   "outputs": [
    {
     "name": "stdout",
     "output_type": "stream",
     "text": [
      "1. https://www.pinkvilla.com/entertainment/hollywood/popular-celebrities-1170594\n",
      "2. https://gkschools.com/famous-people/top-most-famous-persons-in-the-world\n",
      "3. https://today.yougov.com/ratings/entertainment/fame/people/all\n",
      "4. https://www.forbes.com/celebrities/\n",
      "5. https://www.imdb.com/list/ls052283250/\n",
      "6. https://www.newvisiontheatres.com/most-famous-persons\n",
      "7. https://www.top10about.com/top-10-most-popular-celebrities-in-the-world/\n"
     ]
    }
   ],
   "source": [
    "from googlesearch import search\n",
    "\n",
    "if __name__ == \"__main__\":\n",
    "    query = \"famous top 5 celebrity name\"  # Replace this with your desired search query\n",
    "    num_results = 5  # Number of search results to retrieve\n",
    "\n",
    "    search_results = search(query, num_results=num_results)\n",
    "    for i, result in enumerate(search_results, 1):\n",
    "        print(f\"{i}. {result}\")"
   ]
  },
  {
   "cell_type": "code",
   "execution_count": null,
   "id": "b7a8c73c",
   "metadata": {},
   "outputs": [],
   "source": []
  }
 ],
 "metadata": {
  "kernelspec": {
   "display_name": "Python 3 (ipykernel)",
   "language": "python",
   "name": "python3"
  },
  "language_info": {
   "codemirror_mode": {
    "name": "ipython",
    "version": 3
   },
   "file_extension": ".py",
   "mimetype": "text/x-python",
   "name": "python",
   "nbconvert_exporter": "python",
   "pygments_lexer": "ipython3",
   "version": "3.11.3"
  }
 },
 "nbformat": 4,
 "nbformat_minor": 5
}
