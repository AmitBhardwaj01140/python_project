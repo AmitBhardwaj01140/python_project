{
 "cells": [
  {
   "cell_type": "code",
   "execution_count": 9,
   "id": "58bb337d",
   "metadata": {},
   "outputs": [
    {
     "name": "stdout",
     "output_type": "stream",
     "text": [
      "mail sent\n"
     ]
    },
    {
     "data": {
      "text/plain": [
       "(221,\n",
       " b'2.0.0 closing connection t10-20020a17090a448a00b00263f8915aa3sm6835528pjg.31 - gsmtp')"
      ]
     },
     "execution_count": 9,
     "metadata": {},
     "output_type": "execute_result"
    }
   ],
   "source": [
    "import smtplib\n",
    "\n",
    "# creates SMTP session\n",
    "s = smtplib.SMTP('smtp.gmail.com', 587)\n",
    "\n",
    "# start TLS for security\n",
    "s.starttls()\n",
    "\n",
    "# Authentication\n",
    "s.login('amitbhardwaj01140@gmail.com', 'qbrgoracisiooqci')\n",
    "\n",
    "# message to be sent\n",
    "message = \"hi this is a test email\"\n",
    "\n",
    "# sending the mail\n",
    "s.sendmail('amitbhardwaj01140@gmail.com', 'amitbhardwaj0141@gmail.com', message)\n",
    "print(\"mail sent\")\n",
    "\n",
    "s.quit()\n"
   ]
  },
  {
   "cell_type": "code",
   "execution_count": null,
   "id": "048d1da2",
   "metadata": {},
   "outputs": [],
   "source": []
  },
  {
   "cell_type": "code",
   "execution_count": null,
   "id": "4af32432",
   "metadata": {},
   "outputs": [],
   "source": []
  }
 ],
 "metadata": {
  "kernelspec": {
   "display_name": "Python 3 (ipykernel)",
   "language": "python",
   "name": "python3"
  },
  "language_info": {
   "codemirror_mode": {
    "name": "ipython",
    "version": 3
   },
   "file_extension": ".py",
   "mimetype": "text/x-python",
   "name": "python",
   "nbconvert_exporter": "python",
   "pygments_lexer": "ipython3",
   "version": "3.11.3"
  }
 },
 "nbformat": 4,
 "nbformat_minor": 5
}
