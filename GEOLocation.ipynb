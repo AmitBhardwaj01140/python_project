{
 "cells": [
  {
   "cell_type": "code",
   "execution_count": 1,
   "id": "4c3fc950",
   "metadata": {},
   "outputs": [
    {
     "name": "stdout",
     "output_type": "stream",
     "text": [
      "WhatsApp message with GPS coordinates sent successfully!\n"
     ]
    }
   ],
   "source": [
    "from twilio.rest import Client\n",
    "from geopy.geocoders import Nominatim\n",
    "\n",
    "# Replace these with your actual Account SID and Auth Token from Twilio\n",
    "account_sid = \"AC6bf3d2f180b0985001d9f8ac5d65d987\"\n",
    "auth_token = \"d0dd285c58c3a5b4de8e604519c595fc\"\n",
    "\n",
    "# Replace this with your Twilio WhatsApp sandbox number\n",
    "twilio_whatsapp_number = \"+14155238886\"\n",
    "\n",
    "# Replace this with the recipient's WhatsApp number with the country code\n",
    "recipient_whatsapp_number = \"+918824510564\"\n",
    "\n",
    "# Get GPS coordinates using geocoder\n",
    "geolocator = Nominatim(user_agent=\"my_geocoder\")\n",
    "location = geolocator.geocode(\"me\")\n",
    "latitude, longitude = location.latitude, location.longitude\n",
    "\n",
    "# Create a Twilio client\n",
    "client = Client(account_sid, auth_token)\n",
    "\n",
    "# Send the WhatsApp message with GPS coordinates\n",
    "message = client.messages.create(\n",
    "    body=f\"Hello from Twilio! This is a test WhatsApp message with GPS coordinates.\\nLatitude: {latitude}\\nLongitude: {longitude}\",\n",
    "    from_=f\"whatsapp:{twilio_whatsapp_number}\",\n",
    "    to=f\"whatsapp:{recipient_whatsapp_number}\"\n",
    ")\n",
    "\n",
    "print(\"WhatsApp message with GPS coordinates sent successfully!\")\n"
   ]
  },
  {
   "cell_type": "code",
   "execution_count": null,
   "id": "f18594f4",
   "metadata": {},
   "outputs": [],
   "source": []
  }
 ],
 "metadata": {
  "kernelspec": {
   "display_name": "Python 3 (ipykernel)",
   "language": "python",
   "name": "python3"
  },
  "language_info": {
   "codemirror_mode": {
    "name": "ipython",
    "version": 3
   },
   "file_extension": ".py",
   "mimetype": "text/x-python",
   "name": "python",
   "nbconvert_exporter": "python",
   "pygments_lexer": "ipython3",
   "version": "3.11.3"
  }
 },
 "nbformat": 4,
 "nbformat_minor": 5
}
