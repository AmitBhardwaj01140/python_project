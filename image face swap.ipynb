{
 "cells": [
  {
   "cell_type": "code",
   "execution_count": 3,
   "id": "0d0c00a9",
   "metadata": {},
   "outputs": [
    {
     "ename": "SyntaxError",
     "evalue": "invalid syntax (1679211254.py, line 19)",
     "output_type": "error",
     "traceback": [
      "\u001b[1;36m  Cell \u001b[1;32mIn[3], line 19\u001b[1;36m\u001b[0m\n\u001b[1;33m    cv2.imshow('Image ', array_image{[0:400] , [50:670]}\u001b[0m\n\u001b[1;37m                                    ^\u001b[0m\n\u001b[1;31mSyntaxError\u001b[0m\u001b[1;31m:\u001b[0m invalid syntax\n"
     ]
    }
   ],
   "source": [
    "import numpy as np\n",
    "from PIL import Image\n",
    "import cv2\n",
    "\n",
    "pathway = r\"C:\\Users\\91905\\Desktop\\raina1.jpg\"\n",
    "pathway1 = r\"C:\\Users\\91905\\Desktop\\virat kholi.jpg\"\n",
    "\n",
    "image = Image.open(pathway)\n",
    "array_image = np.array(image)\n",
    "\n",
    "#image1 = Image.open(pathway1)\n",
    "#array_image1 = np.array(image1)\n",
    "\n",
    "\n",
    "\"\"\"\"\"\"# Copy a specific pixel value from array_image to array_image1\n",
    "#array_image1[0: 400, 0: 670] = array_image[0 : 400 , 0: 670]\n",
    "\n",
    "# Display the modified image using OpenCV's imshow() function\n",
    "cv2.imshow('Image ', array_image{[0:400] , [50:670]}\n",
    "\n",
    "# Wait for a key press and close the window\n",
    "cv2.waitKey(0)\n",
    "cv2.destroyAllWindows()\n"
   ]
  },
  {
   "cell_type": "code",
   "execution_count": 3,
   "id": "ba719cb8",
   "metadata": {},
   "outputs": [
    {
     "data": {
      "text/plain": [
       "(893, 670, 3)"
      ]
     },
     "execution_count": 3,
     "metadata": {},
     "output_type": "execute_result"
    }
   ],
   "source": [
    "image1.shape"
   ]
  },
  {
   "cell_type": "code",
   "execution_count": 8,
   "id": "ac30b4ca",
   "metadata": {},
   "outputs": [
    {
     "data": {
      "text/plain": [
       "(634, 950, 3)"
      ]
     },
     "execution_count": 8,
     "metadata": {},
     "output_type": "execute_result"
    }
   ],
   "source": [
    "array_image.shape\n"
   ]
  }
 ],
 "metadata": {
  "kernelspec": {
   "display_name": "Python 3 (ipykernel)",
   "language": "python",
   "name": "python3"
  },
  "language_info": {
   "codemirror_mode": {
    "name": "ipython",
    "version": 3
   },
   "file_extension": ".py",
   "mimetype": "text/x-python",
   "name": "python",
   "nbconvert_exporter": "python",
   "pygments_lexer": "ipython3",
   "version": "3.11.3"
  }
 },
 "nbformat": 4,
 "nbformat_minor": 5
}
